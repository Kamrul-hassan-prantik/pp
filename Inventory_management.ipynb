{
  "nbformat": 4,
  "nbformat_minor": 0,
  "metadata": {
    "colab": {
      "provenance": []
    },
    "kernelspec": {
      "name": "python3",
      "display_name": "Python 3"
    },
    "language_info": {
      "name": "python"
    }
  },
  "cells": [
    {
      "cell_type": "code",
      "execution_count": 1,
      "metadata": {
        "id": "axA2_2L2ZfdO"
      },
      "outputs": [],
      "source": [
        "import pandas as pd\n",
        "import os\n",
        "from datetime import datetime\n",
        "\n",
        "inventory_file = 'inventory.csv'\n",
        "sales_file = 'sales.csv'\n",
        "\n",
        "# Create inventory file if not exists\n",
        "if not os.path.exists(inventory_file):\n",
        "    pd.DataFrame(columns=['Item ID', 'Item Name', 'Category', 'Quantity', 'Unit Price', 'Reorder Level']).to_csv(inventory_file, index=False)\n",
        "\n",
        "# Create sales file if not exists\n",
        "if not os.path.exists(sales_file):\n",
        "    pd.DataFrame(columns=['Transaction ID', 'Item ID', 'Quantity Sold', 'Sale Date', 'Total Price']).to_csv(sales_file, index=False)\n"
      ]
    },
    {
      "cell_type": "code",
      "source": [
        "def add_item():\n",
        "    inventory = pd.read_csv(inventory_file)\n",
        "\n",
        "    new_item = pd.DataFrame([{\n",
        "        'Item ID': input(\"Enter Item ID: \"),\n",
        "        'Item Name': input(\"Enter Item Name: \"),\n",
        "        'Category': input(\"Enter Category: \"),\n",
        "        'Quantity': int(input(\"Enter Quantity: \")),\n",
        "        'Unit Price': float(input(\"Enter Unit Price: \")),\n",
        "        'Reorder Level': int(input(\"Enter Reorder Level: \"))\n",
        "    }])\n",
        "\n",
        "    # Use pd.concat to add the new item\n",
        "    inventory = pd.concat([inventory, new_item], ignore_index=True)\n",
        "    inventory.to_csv(inventory_file, index=False)\n",
        "    print(\"Item added successfully.\")\n",
        "\n",
        "def update_item():\n",
        "    inventory = pd.read_csv(inventory_file)\n",
        "    item_id = input(\"Enter Item ID to update: \")\n",
        "\n",
        "    if item_id in inventory['Item ID'].values:\n",
        "        idx = inventory[inventory['Item ID'] == item_id].index[0]\n",
        "        print(\"Current Details:\")\n",
        "        print(inventory.loc[idx])\n",
        "\n",
        "        inventory.loc[idx, 'Item Name'] = input(\"Enter new Item Name: \") or inventory.loc[idx, 'Item Name']\n",
        "        inventory.loc[idx, 'Category'] = input(\"Enter new Category: \") or inventory.loc[idx, 'Category']\n",
        "        inventory.loc[idx, 'Quantity'] = int(input(\"Enter new Quantity: \") or inventory.loc[idx, 'Quantity'])\n",
        "        inventory.loc[idx, 'Unit Price'] = float(input(\"Enter new Unit Price: \") or inventory.loc[idx, 'Unit Price'])\n",
        "        inventory.loc[idx, 'Reorder Level'] = int(input(\"Enter new Reorder Level: \") or inventory.loc[idx, 'Reorder Level'])\n",
        "\n",
        "        inventory.to_csv(inventory_file, index=False)\n",
        "        print(\"Item updated successfully.\")\n",
        "    else:\n",
        "        print(\"Item not found.\")\n",
        "\n",
        "def delete_item():\n",
        "    inventory = pd.read_csv(inventory_file)\n",
        "    item_id = input(\"Enter Item ID to delete: \")\n",
        "\n",
        "    if item_id in inventory['Item ID'].values:\n",
        "        inventory = inventory[inventory['Item ID'] != item_id]\n",
        "        inventory.to_csv(inventory_file, index=False)\n",
        "        print(\"Item deleted successfully.\")\n",
        "    else:\n",
        "        print(\"Item not found.\")\n",
        "\n"
      ],
      "metadata": {
        "id": "qi_g-SYZZ8WO"
      },
      "execution_count": 41,
      "outputs": []
    },
    {
      "cell_type": "code",
      "source": [
        "def monitor_inventory():\n",
        "    inventory = pd.read_csv(inventory_file)\n",
        "    low_stock = inventory[inventory['Quantity'] <= inventory['Reorder Level']]\n",
        "\n",
        "    if not low_stock.empty:\n",
        "        print(\"Low Stock Items:\")\n",
        "        print(low_stock)\n",
        "    else:\n",
        "        print(\"No low-stock items.\")\n",
        "def stock_alert():\n",
        "    inventory = pd.read_csv(inventory_file)\n",
        "    low_stock = inventory[inventory['Quantity'] <= inventory['Reorder Level']]\n",
        "\n",
        "    for _, item in low_stock.iterrows():\n",
        "        print(f\"ALERT: {item['Item Name']} is below reorder level.\")\n"
      ],
      "metadata": {
        "id": "YN0xgaxSZ9YD"
      },
      "execution_count": 36,
      "outputs": []
    },
    {
      "cell_type": "code",
      "source": [
        "def record_sale():\n",
        "    inventory = pd.read_csv(inventory_file)\n",
        "    sales = pd.read_csv(sales_file)\n",
        "\n",
        "    transaction_id = input(\"Enter Transaction ID: \")\n",
        "    item_id = input(\"Enter Item ID: \")\n",
        "    quantity_sold = int(input(\"Enter Quantity Sold: \"))\n",
        "\n",
        "    if item_id in inventory['Item ID'].values:\n",
        "        idx = inventory[inventory['Item ID'] == item_id].index[0]\n",
        "        if inventory.loc[idx, 'Quantity'] >= quantity_sold:\n",
        "            total_price = quantity_sold * inventory.loc[idx, 'Unit Price']\n",
        "            inventory.loc[idx, 'Quantity'] -= quantity_sold\n",
        "\n",
        "            # Create new sale record as a DataFrame\n",
        "            new_sale = pd.DataFrame([{\n",
        "                'Transaction ID': transaction_id,\n",
        "                'Item ID': item_id,\n",
        "                'Quantity Sold': quantity_sold,\n",
        "                'Sale Date': datetime.now().strftime('%Y-%m-%d'),\n",
        "                'Total Price': total_price\n",
        "            }])\n",
        "\n",
        "            # Use pd.concat() to add the new sale\n",
        "            sales = pd.concat([sales, new_sale], ignore_index=True)\n",
        "\n",
        "            # Save updated files\n",
        "            inventory.to_csv(inventory_file, index=False)\n",
        "            sales.to_csv(sales_file, index=False)\n",
        "            print(\"Sale recorded successfully.\")\n",
        "        else:\n",
        "            print(\"Insufficient stock.\")\n",
        "    else:\n",
        "        print(\"Item not found.\")\n"
      ],
      "metadata": {
        "id": "ExYCX_hvaL3f"
      },
      "execution_count": 37,
      "outputs": []
    },
    {
      "cell_type": "code",
      "source": [
        "def analyze_trends():\n",
        "    sales = pd.read_csv(sales_file)\n",
        "    top_items = sales.groupby('Item ID').sum()['Quantity Sold'].sort_values(ascending=False)\n",
        "    print(\"Fast-Moving Items:\")\n",
        "    print(top_items.head())\n",
        "    print(\"Slow-Moving Items:\")\n",
        "    print(top_items.tail())\n",
        "def summary_report():\n",
        "    inventory = pd.read_csv(inventory_file)\n",
        "    sales = pd.read_csv(sales_file)\n",
        "\n",
        "    total_stock_value = (inventory['Quantity'] * inventory['Unit Price']).sum()\n",
        "    total_revenue = sales['Total Price'].sum()\n",
        "\n",
        "    print(f\"Total Stock Value: {total_stock_value}\")\n",
        "    print(f\"Total Revenue: {total_revenue}\")\n"
      ],
      "metadata": {
        "id": "rWMs6xI1aORL"
      },
      "execution_count": 38,
      "outputs": []
    },
    {
      "cell_type": "code",
      "source": [
        "def export_stock_report():\n",
        "    inventory = pd.read_csv(inventory_file)\n",
        "    inventory.to_csv('stock_report.csv', index=False)\n",
        "    print(\"Stock report exported.\")\n",
        "def search_items():\n",
        "    inventory = pd.read_csv(inventory_file)\n",
        "    term = input(\"Search by name or category: \").lower()\n",
        "    results = inventory[\n",
        "        inventory['Item Name'].str.contains(term, case=False) |\n",
        "        inventory['Category'].str.contains(term, case=False)\n",
        "    ]\n",
        "    if not results.empty:\n",
        "        print(results)\n",
        "    else:\n",
        "        print(\"No matching items found.\")\n"
      ],
      "metadata": {
        "id": "Yz7ysJ1MaVcc"
      },
      "execution_count": 39,
      "outputs": []
    },
    {
      "cell_type": "code",
      "source": [
        "1def main_menu():\n",
        "    while True:\n",
        "        print(\"\\n1. Add Item\\n2. Update Item\\n3. Delete Item\\n4. Monitor Inventory\\n5. Record Sale\\n6. Analyze Trends\\n7. Summary Report\\n8. Export Report\\n9. Search Items\\n10. Exit\")\n",
        "        choice = input(\"Enter your choice: \")\n",
        "\n",
        "        if choice == '1':\n",
        "            add_item()\n",
        "        elif choice == '2':\n",
        "            update_item()\n",
        "        elif choice == '3':\n",
        "            delete_item()\n",
        "        elif choice == '4':\n",
        "            monitor_inventory()\n",
        "            stock_alert()\n",
        "        elif choice == '5':\n",
        "            record_sale()\n",
        "        elif choice == '6':\n",
        "            analyze_trends()\n",
        "        elif choice == '7':\n",
        "            summary_report()\n",
        "        elif choice == '8':\n",
        "            export_stock_report()\n",
        "        elif choice == '9':\n",
        "            search_items()\n",
        "        elif choice == '10':\n",
        "            print(\"Exiting program.\")\n",
        "            break\n",
        "        else:\n",
        "            print(\"Invalid choice.\")\n",
        "\n",
        "if __name__ == \"__main__\":\n",
        "    main_menu()\n",
        "1\n",
        "11"
      ],
      "metadata": {
        "colab": {
          "base_uri": "https://localhost:8080/"
        },
        "id": "cAWqu6VoaZsA",
        "outputId": "d788dbdb-f6dd-49f9-8095-3df1aa798044"
      },
      "execution_count": null,
      "outputs": [
        {
          "name": "stdout",
          "output_type": "stream",
          "text": [
            "\n",
            "1. Add Item\n",
            "2. Update Item\n",
            "3. Delete Item\n",
            "4. Monitor Inventory\n",
            "5. Record Sale\n",
            "6. Analyze Trends\n",
            "7. Summary Report\n",
            "8. Export Report\n",
            "9. Search Items\n",
            "10. Exit\n",
            "Enter your choice: 1\n",
            "Enter Item ID: 1\n",
            "Enter Item Name: 1\n",
            "Enter Category: 1\n",
            "Enter Quantity: 1\n",
            "Enter Unit Price: 1\n",
            "Enter Reorder Level: 1\n"
          ]
        },
        {
          "output_type": "stream",
          "name": "stderr",
          "text": [
            "<ipython-input-41-e3d8453654fe>:14: FutureWarning: The behavior of DataFrame concatenation with empty or all-NA entries is deprecated. In a future version, this will no longer exclude empty or all-NA columns when determining the result dtypes. To retain the old behavior, exclude the relevant entries before the concat operation.\n",
            "  inventory = pd.concat([inventory, new_item], ignore_index=True)\n"
          ]
        },
        {
          "output_type": "stream",
          "name": "stdout",
          "text": [
            "Item added successfully.\n",
            "\n",
            "1. Add Item\n",
            "2. Update Item\n",
            "3. Delete Item\n",
            "4. Monitor Inventory\n",
            "5. Record Sale\n",
            "6. Analyze Trends\n",
            "7. Summary Report\n",
            "8. Export Report\n",
            "9. Search Items\n",
            "10. Exit\n"
          ]
        }
      ]
    }
  ]
}