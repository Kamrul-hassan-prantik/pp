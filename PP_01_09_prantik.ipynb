{
  "cells": [
    {
      "cell_type": "code",
      "execution_count": 4,
      "metadata": {
        "id": "axA2_2L2ZfdO"
      },
      "outputs": [],
      "source": [
        "#1 Data setup\n",
        "import pandas as pd\n",
        "import os\n",
        "from datetime import datetime\n",
        "\n",
        "inventory_file = 'inventory.csv'\n",
        "sales_file = 'sales.csv'\n",
        "\n",
        "#inventory file\n",
        "if not os.path.exists(inventory_file):\n",
        "    pd.DataFrame(columns=['Item ID', 'Item Name', 'Category', 'Quantity', 'Unit Price', 'Reorder Level']).to_csv(inventory_file, index=False)\n",
        "\n",
        "#sales file\n",
        "if not os.path.exists(sales_file):\n",
        "    pd.DataFrame(columns=['Transaction ID', 'Item ID', 'Quantity Sold', 'Sale Date', 'Total Price']).to_csv(sales_file, index=False)\n"
      ]
    },
    {
      "cell_type": "code",
      "execution_count": 5,
      "metadata": {
        "id": "qi_g-SYZZ8WO"
      },
      "outputs": [],
      "source": [
        "#2 Managing inventory\n",
        "#add new items\n",
        "def add_item():\n",
        "    inventory = pd.read_csv(inventory_file)\n",
        "\n",
        "    new_item = pd.DataFrame([{\n",
        "        'Item ID': input(\"Enter Item ID: \"),\n",
        "        'Item Name': input(\"Enter Item Name: \"),\n",
        "        'Category': input(\"Enter Category: \"),\n",
        "        'Quantity': int(input(\"Enter Quantity: \")),\n",
        "        'Unit Price': float(input(\"Enter Unit Price: \")),\n",
        "        'Reorder Level': int(input(\"Enter Reorder Level: \"))\n",
        "    }])\n",
        "\n",
        "\n",
        "    inventory = pd.concat([inventory, new_item], ignore_index=True)\n",
        "    inventory.to_csv(inventory_file, index=False)\n",
        "    print(\"Item added successfully.\")\n",
        "#update items\n",
        "def update_item():\n",
        "    inventory = pd.read_csv(inventory_file)\n",
        "    item_id = input(\"Enter Item ID to update: \")\n",
        "\n",
        "    if item_id in inventory['Item ID'].values:\n",
        "        idx = inventory[inventory['Item ID'] == item_id].index[0]\n",
        "        print(\"Current Details:\")\n",
        "        print(inventory.loc[idx])\n",
        "\n",
        "        inventory.loc[idx, 'Item Name'] = input(\"Enter new Item Name: \") or inventory.loc[idx, 'Item Name']\n",
        "        inventory.loc[idx, 'Category'] = input(\"Enter new Category: \") or inventory.loc[idx, 'Category']\n",
        "        inventory.loc[idx, 'Quantity'] = int(input(\"Enter new Quantity: \") or inventory.loc[idx, 'Quantity'])\n",
        "        inventory.loc[idx, 'Unit Price'] = float(input(\"Enter new Unit Price: \") or inventory.loc[idx, 'Unit Price'])\n",
        "        inventory.loc[idx, 'Reorder Level'] = int(input(\"Enter new Reorder Level: \") or inventory.loc[idx, 'Reorder Level'])\n",
        "\n",
        "        inventory.to_csv(inventory_file, index=False)\n",
        "        print(\"Item updated successfully.\")\n",
        "    else:\n",
        "        print(\"Item not found.\")\n",
        "#delete items\n",
        "def delete_item():\n",
        "    inventory = pd.read_csv(inventory_file)\n",
        "    item_id = input(\"Enter Item ID to delete: \")\n",
        "\n",
        "    if item_id in inventory['Item ID'].values:\n",
        "        inventory = inventory[inventory['Item ID'] != item_id]\n",
        "        inventory.to_csv(inventory_file, index=False)\n",
        "        print(\"Item deleted successfully.\")\n",
        "    else:\n",
        "        print(\"Item not found.\")\n",
        "\n"
      ]
    },
    {
      "cell_type": "code",
      "execution_count": 6,
      "metadata": {
        "id": "YN0xgaxSZ9YD"
      },
      "outputs": [],
      "source": [
        "#3 tracking stock\n",
        "#monitor inventory\n",
        "def monitor_inventory():\n",
        "    inventory = pd.read_csv(inventory_file)\n",
        "    low_stock = inventory[inventory['Quantity'] <= inventory['Reorder Level']]\n",
        "\n",
        "    if not low_stock.empty:\n",
        "        print(\"Low Stock Items:\")\n",
        "        print(low_stock)\n",
        "    else:\n",
        "        print(\"No low-stock items.\")\n",
        "#stock alert\n",
        "def stock_alert():\n",
        "    inventory = pd.read_csv(inventory_file)\n",
        "    low_stock = inventory[inventory['Quantity'] <= inventory['Reorder Level']]\n",
        "\n",
        "    for _, item in low_stock.iterrows():\n",
        "        print(f\"ALERT: {item['Item Name']} is below reorder level.\")\n"
      ]
    },
    {
      "cell_type": "code",
      "execution_count": 7,
      "metadata": {
        "id": "ExYCX_hvaL3f"
      },
      "outputs": [],
      "source": [
        "#4 sales record\n",
        "def record_sale():\n",
        "    inventory = pd.read_csv(inventory_file)\n",
        "    sales = pd.read_csv(sales_file)\n",
        "\n",
        "    transaction_id = input(\"Enter Transaction ID: \")\n",
        "    item_id = input(\"Enter Item ID: \")\n",
        "    quantity_sold = int(input(\"Enter Quantity Sold: \"))\n",
        "\n",
        "    if item_id in inventory['Item ID'].values:\n",
        "        idx = inventory[inventory['Item ID'] == item_id].index[0]\n",
        "        if inventory.loc[idx, 'Quantity'] >= quantity_sold:\n",
        "            total_price = quantity_sold * inventory.loc[idx, 'Unit Price']\n",
        "            inventory.loc[idx, 'Quantity'] -= quantity_sold\n",
        "\n",
        "\n",
        "            new_sale = pd.DataFrame([{\n",
        "                'Transaction ID': transaction_id,\n",
        "                'Item ID': item_id,\n",
        "                'Quantity Sold': quantity_sold,\n",
        "                'Sale Date': datetime.now().strftime('%Y-%m-%d'),\n",
        "                'Total Price': total_price\n",
        "            }])\n",
        "\n",
        "\n",
        "            sales = pd.concat([sales, new_sale], ignore_index=True)\n",
        "\n",
        "\n",
        "            inventory.to_csv(inventory_file, index=False)\n",
        "            sales.to_csv(sales_file, index=False)\n",
        "            print(\"Sale recorded successfully.\")\n",
        "        else:\n",
        "            print(\"Insufficient stock.\")\n",
        "    else:\n",
        "        print(\"Item not found.\")\n"
      ]
    },
    {
      "cell_type": "code",
      "execution_count": 8,
      "metadata": {
        "id": "rWMs6xI1aORL"
      },
      "outputs": [],
      "source": [
        "#5 Inventory analysis\n",
        "#trends\n",
        "def analyze_trends():\n",
        "    sales = pd.read_csv(sales_file)\n",
        "    top_items = sales.groupby('Item ID').sum()['Quantity Sold'].sort_values(ascending=False)\n",
        "    print(\"Fast-Moving Items:\")\n",
        "    print(top_items.head())\n",
        "    print(\"Slow-Moving Items:\")\n",
        "    print(top_items.tail())\n",
        "#summary\n",
        "def summary_report():\n",
        "    inventory = pd.read_csv(inventory_file)\n",
        "    sales = pd.read_csv(sales_file)\n",
        "\n",
        "    total_stock_value = (inventory['Quantity'] * inventory['Unit Price']).sum()\n",
        "    total_revenue = sales['Total Price'].sum()\n",
        "\n",
        "    print(f\"Total Stock Value: {total_stock_value}\")\n",
        "    print(f\"Total Revenue: {total_revenue}\")\n"
      ]
    },
    {
      "cell_type": "code",
      "execution_count": 9,
      "metadata": {
        "id": "Yz7ysJ1MaVcc"
      },
      "outputs": [],
      "source": [
        "#6 advance features\n",
        "def export_stock_report():\n",
        "    inventory = pd.read_csv(inventory_file)\n",
        "    inventory.to_csv('stock_report.csv', index=False)\n",
        "    print(\"Stock report exported.\")\n",
        "def search_items():\n",
        "    inventory = pd.read_csv(inventory_file)\n",
        "    term = input(\"Search by name or category: \").lower()\n",
        "    results = inventory[\n",
        "        inventory['Item Name'].str.contains(term, case=False) |\n",
        "        inventory['Category'].str.contains(term, case=False)\n",
        "    ]\n",
        "    if not results.empty:\n",
        "        print(results)\n",
        "    else:\n",
        "        print(\"No matching items found.\")\n"
      ]
    },
    {
      "cell_type": "code",
      "execution_count": 2,
      "metadata": {
        "colab": {
          "base_uri": "https://localhost:8080/"
        },
        "id": "cAWqu6VoaZsA",
        "collapsed": true,
        "outputId": "ea160aeb-1d28-415a-8799-28a0fa85ef1e"
      },
      "outputs": [
        {
          "output_type": "stream",
          "name": "stdout",
          "text": [
            "\n",
            "1. Add Item\n",
            "2. Update Item\n",
            "3. Delete Item\n",
            "4. Monitor Inventory\n",
            "5. Record Sale\n",
            "6. Analyze Trends\n",
            "7. Summary Report\n",
            "8. Export Report\n",
            "9. Search Items\n",
            "10. Exit\n",
            "Enter your choice: 10\n",
            "Exiting program.\n"
          ]
        }
      ],
      "source": [
        "#7 user interface\n",
        "def main_menu():\n",
        "    while True:\n",
        "        print(\"\\n1. Add Item\\n2. Update Item\\n3. Delete Item\\n4. Monitor Inventory\\n5. Record Sale\\n6. Analyze Trends\\n7. Summary Report\\n8. Export Report\\n9. Search Items\\n10. Exit\")\n",
        "        choice = input(\"Enter your choice: \")\n",
        "\n",
        "        if choice == '1':\n",
        "            add_item()\n",
        "        elif choice == '2':\n",
        "            update_item()\n",
        "        elif choice == '3':\n",
        "            delete_item()\n",
        "        elif choice == '4':\n",
        "            monitor_inventory()\n",
        "            stock_alert()\n",
        "        elif choice == '5':\n",
        "            record_sale()\n",
        "        elif choice == '6':\n",
        "            analyze_trends()\n",
        "        elif choice == '7':\n",
        "            summary_report()\n",
        "        elif choice == '8':\n",
        "            export_stock_report()\n",
        "        elif choice == '9':\n",
        "            search_items()\n",
        "        elif choice == '10':\n",
        "            print(\"Exiting program.\")\n",
        "            break\n",
        "        else:\n",
        "            print(\"Invalid choice.\")\n",
        "\n",
        "if __name__ == \"__main__\":\n",
        "    main_menu()"
      ]
    }
  ],
  "metadata": {
    "colab": {
      "provenance": []
    },
    "kernelspec": {
      "display_name": "Python 3",
      "name": "python3"
    },
    "language_info": {
      "name": "python"
    }
  },
  "nbformat": 4,
  "nbformat_minor": 0
}